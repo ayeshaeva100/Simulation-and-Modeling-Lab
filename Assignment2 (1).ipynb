{
  "nbformat": 4,
  "nbformat_minor": 0,
  "metadata": {
    "colab": {
      "provenance": []
    },
    "kernelspec": {
      "name": "python3",
      "display_name": "Python 3"
    },
    "language_info": {
      "name": "python"
    }
  },
  "cells": [
    {
      "cell_type": "code",
      "execution_count": 1,
      "metadata": {
        "id": "kt7tbQJwLei9",
        "colab": {
          "base_uri": "https://localhost:8080/"
        },
        "outputId": "cfa32a80-2ec5-4ce3-f0b4-28b1214da200"
      },
      "outputs": [
        {
          "output_type": "stream",
          "name": "stdout",
          "text": [
            "[[18  4 19]\n",
            " [39 24 46]\n",
            " [30 48 14]]\n"
          ]
        }
      ],
      "source": [
        "import numpy as np\n",
        "import matplotlib.pyplot as plt\n",
        "\n",
        "#Create a 3*3 matrix of random integer between 1 and 50\n",
        "\n",
        "random_matrix = np.random.randint(1, 50, (3, 3))\n",
        "\n",
        "print(random_matrix)\n"
      ]
    },
    {
      "cell_type": "code",
      "source": [
        "#Create a 3*3 matrix of random integer with a fixed seed\n",
        "\n",
        "np.random.seed(10)\n",
        "random_matrix = np.random.randint(1, 50, (3, 3))\n",
        "\n",
        "print(random_matrix)"
      ],
      "metadata": {
        "colab": {
          "base_uri": "https://localhost:8080/"
        },
        "id": "0p9YFs9BP_Hq",
        "outputId": "a9e9d84c-7203-4233-e34b-601abff6a7cc"
      },
      "execution_count": 5,
      "outputs": [
        {
          "output_type": "stream",
          "name": "stdout",
          "text": [
            "[[36 15 48]\n",
            " [39 17 10]\n",
            " [ 9 37 40]]\n"
          ]
        }
      ]
    },
    {
      "cell_type": "code",
      "source": [
        "# Create a 3*3 matrix of random integers between 1 and 50 integer without fixed seed\n",
        "\n",
        "without_seed_random_matrix = np.random.randint(1, 50, (3, 3))\n",
        "\n",
        "print(without_seed_random_matrix)"
      ],
      "metadata": {
        "colab": {
          "base_uri": "https://localhost:8080/"
        },
        "id": "6DfK5NNCQtTf",
        "outputId": "ba37e05f-230b-4ae3-bc5d-92cb88027abb"
      },
      "execution_count": 10,
      "outputs": [
        {
          "output_type": "stream",
          "name": "stdout",
          "text": [
            "[[32  3  5]\n",
            " [39 42 20]\n",
            " [20 19  8]]\n"
          ]
        }
      ]
    },
    {
      "cell_type": "markdown",
      "source": [
        "Explaination:\n",
        "\n",
        "Question 1 - Create a 3×3 matrix of random integers without fixed output .The output will different from every time run this code.\n",
        "\n",
        "Question 2 - Create a 3×3 matrix of random integers with a fixed seed (10).By using the seed,the output will same sequence of random numbers are fixed in the fist running code.\n",
        "\n",
        "Question 3 - Same as Question-1 ,generates another random integers without seed.\n",
        "\n",
        "\n",
        "\n"
      ],
      "metadata": {
        "id": "T3EmRHu_ba1y"
      }
    }
  ]
}