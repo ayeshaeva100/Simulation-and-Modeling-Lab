{
  "nbformat": 4,
  "nbformat_minor": 0,
  "metadata": {
    "colab": {
      "provenance": []
    },
    "kernelspec": {
      "name": "python3",
      "display_name": "Python 3"
    },
    "language_info": {
      "name": "python"
    }
  },
  "cells": [
    {
      "cell_type": "markdown",
      "source": [
        "\n",
        "\n",
        "**Question:**\n",
        "\n",
        "Generate two sets of from a normal distribution and perform a two-sample t-test.\n",
        "\n",
        "1.Randomly generate 50 values from a normal distribution with a chosen mean (μ1) and standard deviation.\n",
        "\n",
        " 2.Randomly generate 50 values from a normal distribution with a different mean (μ2) and standard deviation.\n",
        "\n",
        "Use and determine whether the means differ significantly."
      ],
      "metadata": {
        "id": "TaYY6rHxT0Dt"
      }
    },
    {
      "cell_type": "code",
      "execution_count": 1,
      "metadata": {
        "id": "ixLUEiFMLj62"
      },
      "outputs": [],
      "source": [
        "import numpy as np\n",
        "from scipy import stats\n",
        "import matplotlib.pyplot as plt"
      ]
    },
    {
      "cell_type": "code",
      "source": [
        "# Define the two random samples\n",
        "ata1 = np.random.normal(50,10,50)\n",
        "data2 = np.random.normal(50,10,50)\n",
        "\n",
        "t_statistic, p_value = stats.ttest_ind(data1, data2, equal_var=False)\n",
        "\n",
        "#Calculate confidence interval\n",
        "mean_diff = np.mean(data1) - np.mean(data2)\n",
        "std_err = np.sqrt(np.var(data1, ddof=1)/len(data1) + np.var(data2, ddof=1)/len(data2))\n",
        "df = (std_err**4) / ((np.var(data1, ddof=1)/len(data1))**2 / (len(data1)-1) + (np.var(data2, ddof=1)/len(data2))**2 / (len(data2)-1))\n",
        "ci = stats.t.interval(0.95, df, loc=mean_diff, scale=std_err)\n",
        "\n",
        "#Display results\n",
        "print(f\"Sample 1 Mean: {np.mean(data1):.2f}\")\n",
        "print(f\"Sample 2 Mean: {np.mean(data2):.2f}\")\n",
        "print(f\"t-Statistic: {t_statistic:.2f}\")\n",
        "print(f\"Degrees of Freedom: {df:.2f}\")\n",
        "print(f\"p-Value: {p_value:.4f}\")\n",
        "print(f\"Confidence Interval of Mean Difference: [{ci[0]:.2f}, {ci[1]:.2f}]\")"
      ],
      "metadata": {
        "colab": {
          "base_uri": "https://localhost:8080/"
        },
        "id": "AAUktsN3Pxk3",
        "outputId": "8f5094a6-9297-4a49-c77e-b3e850e75a4d"
      },
      "execution_count": 14,
      "outputs": [
        {
          "output_type": "stream",
          "name": "stdout",
          "text": [
            "Sample 1 Mean: 47.21\n",
            "Sample 2 Mean: 49.13\n",
            "t-Statistic: -0.89\n",
            "Degrees of Freedom: 95.51\n",
            "p-Value: 0.3755\n",
            "Confidence Interval of Mean Difference: [-6.20, 2.36]\n"
          ]
        }
      ]
    },
    {
      "cell_type": "code",
      "source": [
        "alpha = 0.05  # Significance level\n",
        "if p_value < alpha:\n",
        "    print(\"Reject the null hypothesis. The means of the two samples are significantly different.\")\n",
        "else:\n",
        "    print(\"Fail to reject the null hypothesis. The means of the two samples are not significantly different.\")"
      ],
      "metadata": {
        "colab": {
          "base_uri": "https://localhost:8080/"
        },
        "id": "JFdN33SZSFy0",
        "outputId": "1cd4552e-19b6-4cbd-a7b0-360989897cca"
      },
      "execution_count": 10,
      "outputs": [
        {
          "output_type": "stream",
          "name": "stdout",
          "text": [
            "Fail to reject the null hypothesis. The means of the two samples are not significantly different.\n"
          ]
        }
      ]
    },
    {
      "cell_type": "code",
      "source": [
        "#Visualize the data\n",
        "plt.figure(figsize=(6, 4))\n",
        "plt.bar(['Sample 1', 'Sample 2'], [np.mean(data1), np.mean(data2)], color=['blue', 'red'], alpha=0.7)\n",
        "plt.errorbar(['Sample 1', 'Sample 2'], [np.mean(data1), np.mean(data2)], yerr=[np.std(data1, ddof=1), np.std(data2, ddof=1)], fmt='k_', capsize=5)\n",
        "plt.title('Comparison of Sample Means')\n",
        "plt.ylabel('Mean Value')\n",
        "plt.grid(True)\n",
        "plt.show()"
      ],
      "metadata": {
        "colab": {
          "base_uri": "https://localhost:8080/",
          "height": 391
        },
        "id": "9dlajNzRSHyH",
        "outputId": "85fd3179-2637-462e-9ee5-d2c47ebd3261"
      },
      "execution_count": 13,
      "outputs": [
        {
          "output_type": "display_data",
          "data": {
            "text/plain": [
              "<Figure size 600x400 with 1 Axes>"
            ],
            "image/png": "[encoded data removed]"
          },
          "metadata": {}
        }
      ]
    }
  ]
}